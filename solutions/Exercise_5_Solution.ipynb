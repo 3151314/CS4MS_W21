{
  "cells": [
    {
      "cell_type": "markdown",
      "metadata": {
        "collapsed": false,
        "id": "XeeWgy0x_x-Y"
      },
      "source": [
        "# Introduction to classes (object oriented programming)\n",
        "\n",
        "Object oriented programming is a programming paradigm revolving around the idea of modelling data and its behavior with objects inspired by an abstraction of reality.\n",
        "More information on Pythons philosophy on objects here: https://docs.python.org/3/reference/datamodel.html\n",
        "\n",
        "An object is an instance of class. A class defines the attributes and actions of an object. There can be many instances of the same class.\n",
        "\n",
        "Classes provide a means of bundling data and functionality together. Creating a new class creates a new type of object, allowing new instances of that type to be made. Each class instance can have attributes attached to it for maintaining its state. Class instances can also have methods (defined by its class) for modifying its state.\n",
        "\n",
        "Classes can be inherited e.g. a dog gets all the attributes and actions of a mammal, but additionally has dog specific attributes and actions: all mammals can breathe - only a dog can bark.\n",
        "\n",
        "The **self** parameter is a reference to the current instance of the class, and is used to access variables that belongs to the class."
      ]
    },
    {
      "cell_type": "code",
      "execution_count": null,
      "metadata": {
        "id": "Brb0fr2b_x-f"
      },
      "outputs": [],
      "source": [
        "# Imports\n",
        "!pip install --upgrade -q gspread\n",
        "from google.colab import auth\n",
        "auth.authenticate_user()\n",
        "import gspread\n",
        "from oauth2client.client import GoogleCredentials\n",
        "import datetime\n",
        "import pytz\n",
        "\n",
        "tz = pytz.timezone('Europe/Berlin')\n",
        "\n",
        "gc = gspread.authorize(GoogleCredentials.get_application_default())"
      ]
    },
    {
      "cell_type": "code",
      "execution_count": null,
      "metadata": {
        "id": "kFc0AdM1_x-g"
      },
      "outputs": [],
      "source": [
        "student_name = \"yourName\"\n",
        "assert student_name != \"yourName\""
      ]
    },
    {
      "cell_type": "code",
      "execution_count": null,
      "metadata": {
        "id": "dfi4QZH-_x-g"
      },
      "outputs": [],
      "source": [
        "#@title Result Form\n",
        "gsheet = gc.open_by_url(\"https://docs.google.com/spreadsheets/d/1tbf2rqsvRSqCNMtwxGW34_LoUL4pR3qBH4ht8gZXkl0/edit?usp=sharing\")\n",
        "\n",
        "def write_result(task_number, result=None):\n",
        "  worksheet = gsheet.worksheet(\"task{}\".format(task_number))\n",
        "  current_time = datetime.datetime.now(tz).strftime(\"%X\")\n",
        "  current_date = str(datetime.date.today())\n",
        "  if result:\n",
        "    worksheet.append_row([student_name, current_time, current_date, result])\n",
        "    print(\"Task {} successfully solved by {} at {} with result: {}\".format(task_number, student_name, current_time, result))\n",
        "  else:\n",
        "    worksheet.append_row([student_name, current_time, current_date])\n",
        "    print(\"Task {} successfully solved by {} at {}\".format(task_number, student_name, current_time))\n",
        "\n",
        "print(\"Reporting enabled - write_result(number_of_task, result='your result') \")\n",
        "write_result(0)"
      ]
    },
    {
      "cell_type": "code",
      "execution_count": null,
      "metadata": {
        "id": "04z_roei_x-g",
        "pycharm": {
          "name": "#%%\n"
        }
      },
      "outputs": [],
      "source": [
        "# definte the class for a person\n",
        "class Person:\n",
        "    '''\n",
        "    This class represent a Person.\n",
        "    : attribute first_name: First name of the person\n",
        "    : attribute last_name: Last name of the person    \n",
        "    '''\n",
        "    # __ indicates internal functions, __method__ indicates special python method\n",
        "    def __init__(self, first_name, last_name):\n",
        "        '''\n",
        "        This function is always called when an instance of a class is created(Constructor).\n",
        "        The __init__() function is used to assign values to object properties or\n",
        "        other operations that are necessary to do when the object is being created.\n",
        "        \"self\" always needs to be set as the first argument in order for the methods to be able to access class attributes (like first and lasts name)\n",
        "        In this example first and last name are given to the constructor to create an instance.\n",
        "        see https://docs.python.org/3/reference/datamodel.html#object.__init__\n",
        "        '''\n",
        "        # within classes attributes are defined with the pattern self.attribute.\n",
        "        # this way attributes cann be accessed within the class definition by self.attribute or in the instance of a class (object) like object.attribute\n",
        "        self.first_name = first_name\n",
        "        self.last_name = last_name    \n"
      ]
    },
    {
      "cell_type": "markdown",
      "metadata": {
        "collapsed": false,
        "id": "9syYyr-J_x-i",
        "pycharm": {
          "name": "#%% md\n"
        }
      },
      "source": [
        "Create an instance of a person"
      ]
    },
    {
      "cell_type": "code",
      "execution_count": null,
      "metadata": {
        "id": "7J4eyYuJ_x-i",
        "pycharm": {
          "name": "#%%\n"
        }
      },
      "outputs": [],
      "source": [
        "person_1 = Person(\"Max\", \"Mustermann\")"
      ]
    },
    {
      "cell_type": "markdown",
      "metadata": {
        "collapsed": false,
        "id": "6n_kgfza_x-i"
      },
      "source": [
        "Get the type of the new object"
      ]
    },
    {
      "cell_type": "code",
      "execution_count": null,
      "metadata": {
        "colab": {
          "base_uri": "https://localhost:8080/"
        },
        "id": "k6bBt_Ix_x-i",
        "outputId": "5dcf25f0-8cfe-4284-bfe6-20af072ee5c9",
        "pycharm": {
          "name": "#%%\n"
        }
      },
      "outputs": [],
      "source": [
        "type(person_1)"
      ]
    },
    {
      "cell_type": "markdown",
      "metadata": {
        "collapsed": false,
        "id": "f18QV30f_x-i",
        "pycharm": {
          "name": "#%% md\n"
        }
      },
      "source": [
        "Print the first and last name of the person"
      ]
    },
    {
      "cell_type": "code",
      "execution_count": null,
      "metadata": {
        "colab": {
          "base_uri": "https://localhost:8080/"
        },
        "id": "8496TfdF_x-j",
        "outputId": "01765e26-686d-4569-fe5d-90079e17b410",
        "pycharm": {
          "name": "#%%\n"
        }
      },
      "outputs": [],
      "source": [
        "print(person_1.first_name, person_1.last_name)"
      ]
    },
    {
      "cell_type": "markdown",
      "metadata": {
        "collapsed": false,
        "id": "YGiFkyBj_x-k"
      },
      "source": [
        "Add age as an attribute"
      ]
    },
    {
      "cell_type": "code",
      "execution_count": null,
      "metadata": {
        "id": "8zkjPfhe_x-k",
        "pycharm": {
          "name": "#%%\n"
        }
      },
      "outputs": [],
      "source": [
        "# definte the class for a person\n",
        "class Person:\n",
        "    '''\n",
        "    This class represent a Person.\n",
        "    : attribute first_name: First name of the person\n",
        "    : attribute last_name: Last name of the person    \n",
        "    '''\n",
        "    # __ indicates internal functions, __method__ indicates special python method\n",
        "    def __init__(self, first_name, last_name, age):\n",
        "        '''\n",
        "        This function is always called when an instance of a class is created(Constructor).\n",
        "        The __init__() function is used to assign values to object properties or\n",
        "        other operations that are necessary to do when the object is being created.\n",
        "        \"self\" always needs to be set as the first argument in order for the methods to be able to access class attributes (like first and lasts name)\n",
        "        In this example first and last name are given to the constructor to create an instance.\n",
        "        see https://docs.python.org/3/reference/datamodel.html#object.__init__\n",
        "        '''\n",
        "        # within classes attributes are defined with the pattern self.attribute.\n",
        "        # this way attributes cann be accessed within the class definition by self.attribute or in the instance of a class (object) like object.attribute\n",
        "        self.first_name = first_name\n",
        "        self.last_name = last_name   \n",
        "        self.age = age \n"
      ]
    },
    {
      "cell_type": "code",
      "execution_count": null,
      "metadata": {
        "id": "Wrfd0IJk_x-k"
      },
      "outputs": [],
      "source": [
        "# age implemented\n",
        "write_result(1, 'age implemented')"
      ]
    },
    {
      "cell_type": "markdown",
      "metadata": {
        "collapsed": false,
        "id": "tcqadeU9_x-l",
        "pycharm": {
          "name": "#%% md\n"
        }
      },
      "source": [
        "Print the age of our existing person"
      ]
    },
    {
      "cell_type": "code",
      "execution_count": null,
      "metadata": {
        "colab": {
          "base_uri": "https://localhost:8080/",
          "height": 191
        },
        "id": "JCMT81n7_x-l",
        "outputId": "030b784f-a358-4d42-c3b5-2c9deac1527b",
        "pycharm": {
          "name": "#%%\n"
        }
      },
      "outputs": [],
      "source": [
        "# this won't work because the object 'person_1' is still following the old definition of the 'Person' class\n",
        "print(person_1.age)"
      ]
    },
    {
      "cell_type": "markdown",
      "metadata": {
        "collapsed": false,
        "id": "T8B_tOid_x-l"
      },
      "source": [
        "Create a new instance of a person and print the age"
      ]
    },
    {
      "cell_type": "code",
      "execution_count": null,
      "metadata": {
        "colab": {
          "base_uri": "https://localhost:8080/"
        },
        "id": "rWUnR1Sr_x-l",
        "outputId": "ba5a0bce-0cac-4ef9-b279-7e7639f76f65",
        "pycharm": {
          "name": "#%%\n"
        }
      },
      "outputs": [],
      "source": [
        "# therefore we need to create a new instance (object) or overwrite the old one\n",
        "person_2 = Person(\"Frida\", \"Froehlich\", 25)\n",
        "print(person_2.age)"
      ]
    },
    {
      "cell_type": "markdown",
      "metadata": {
        "collapsed": false,
        "id": "Qs-xwSo6_x-m",
        "pycharm": {
          "name": "#%% md\n"
        }
      },
      "source": [
        "Add method 'introduce' that prints name and age of the person"
      ]
    },
    {
      "cell_type": "code",
      "execution_count": null,
      "metadata": {
        "id": "Ohzi8YRw_x-m",
        "pycharm": {
          "name": "#%%\n"
        }
      },
      "outputs": [],
      "source": [
        "# definte the class for a person\n",
        "class Person:\n",
        "    '''\n",
        "    This class represent a Person.\n",
        "    : attribute first_name: First name of the person\n",
        "    : attribute last_name: Last name of the person    \n",
        "    '''\n",
        "    # __ indicates internal functions, __method__ indicates special python method\n",
        "    def __init__(self, first_name, last_name, age):\n",
        "        '''\n",
        "        This function is always called when an instance of a class is created(Constructor).\n",
        "        The __init__() function is used to assign values to object properties or\n",
        "        other operations that are necessary to do when the object is being created.\n",
        "        \"self\" always needs to be set as the first argument in order for the methods to be able to access class attributes (like first and lasts name)\n",
        "        In this example first and last name are given to the constructor to create an instance.\n",
        "        see https://docs.python.org/3/reference/datamodel.html#object.__init__\n",
        "        '''\n",
        "        # within classes attributes are defined with the pattern self.attribute.\n",
        "        # this way attributes cann be accessed within the class definition by self.attribute or in the instance of a class (object) like object.attribute\n",
        "        self.first_name = first_name\n",
        "        self.last_name = last_name   \n",
        "        self.age = age \n",
        "\n",
        "    # when defining a class method you always need to add the self object as an argument\n",
        "    # more information here: https://docs.python.org/3/tutorial/classes.html\n",
        "    def introduce(self):\n",
        "      print(f'Hi, my name is {self.first_name} {self.last_name} and I am {self.age} years old.')"
      ]
    },
    {
      "cell_type": "markdown",
      "metadata": {
        "collapsed": false,
        "id": "wcykSC8m_x-m"
      },
      "source": [
        "Call method 'introduce' of a new person"
      ]
    },
    {
      "cell_type": "code",
      "execution_count": null,
      "metadata": {
        "colab": {
          "base_uri": "https://localhost:8080/"
        },
        "id": "G_5JpmT1_x-n",
        "outputId": "a7729f8e-c4ab-4161-bd42-7b47417a05fd",
        "pycharm": {
          "name": "#%%\n"
        }
      },
      "outputs": [],
      "source": [
        "person_3 = Person('Fritz', 'Fischer', 4)\n",
        "person_3.introduce()"
      ]
    },
    {
      "cell_type": "markdown",
      "metadata": {
        "collapsed": false,
        "id": "hYkhJJt5_x-n",
        "pycharm": {
          "name": "#%% md\n"
        }
      },
      "source": [
        "Change the last name of the person"
      ]
    },
    {
      "cell_type": "code",
      "execution_count": null,
      "metadata": {
        "id": "B-KKrqv2_x-n",
        "pycharm": {
          "name": "#%%\n"
        }
      },
      "outputs": [],
      "source": [
        "person_3.last_name = 'Froehlich'"
      ]
    },
    {
      "cell_type": "markdown",
      "metadata": {
        "collapsed": false,
        "id": "vOPxnBBe_x-n"
      },
      "source": [
        "Call method 'introduce' of the same person"
      ]
    },
    {
      "cell_type": "code",
      "execution_count": null,
      "metadata": {
        "colab": {
          "base_uri": "https://localhost:8080/"
        },
        "id": "uiYIV41T_x-n",
        "outputId": "d5b88969-8945-406e-8d2c-e7886a42c0bb",
        "pycharm": {
          "name": "#%%\n"
        }
      },
      "outputs": [],
      "source": [
        "person_3.introduce()"
      ]
    },
    {
      "cell_type": "markdown",
      "metadata": {
        "collapsed": false,
        "id": "jbZ54SrQ_x-n",
        "pycharm": {
          "name": "#%% md\n"
        }
      },
      "source": [
        "Define a class patient that inherits all the attributes from person"
      ]
    },
    {
      "cell_type": "code",
      "execution_count": null,
      "metadata": {
        "id": "6yPZIX2c_x-o",
        "pycharm": {
          "name": "#%%\n"
        }
      },
      "outputs": [],
      "source": [
        "class Patient(Person):\n",
        "  '''\n",
        "  This class is inherited from Person class. It represents Patients.\n",
        "  : attribute patient_id: ID number of patient\n",
        "  '''\n",
        "  def __init__(self, first_name, last_name, age=None, pid=None):\n",
        "    '''\n",
        "    Constructor of Patient class.\n",
        "    We also call the constructor of the class Person from which it was inherited from.\n",
        "    '''\n",
        "    super().__init__(first_name, last_name, age)\n",
        "    self.patient_id = pid\n",
        "  \n",
        "  def __str__(self):\n",
        "    '''\n",
        "    This function is called when we want to print the details of an object of the class\n",
        "    '''\n",
        "    return (\"Name: {} {} \\n Patient ID: {} \\n\".format(self.first_name, self.last_name, self.patient_id))"
      ]
    },
    {
      "cell_type": "markdown",
      "metadata": {
        "collapsed": false,
        "id": "sik6vVFb_x-o"
      },
      "source": [
        "Create an instance of a patient"
      ]
    },
    {
      "cell_type": "code",
      "execution_count": null,
      "metadata": {
        "id": "tJGGJzsd_x-o",
        "pycharm": {
          "name": "#%%\n"
        }
      },
      "outputs": [],
      "source": [
        "patient_1 = Patient(\"Max\", \"Mustermann\", age=30, pid=\"0001\")"
      ]
    },
    {
      "cell_type": "markdown",
      "metadata": {
        "collapsed": false,
        "id": "HW8CBbN7_x-o"
      },
      "source": [
        "Call the introduction method of the patient"
      ]
    },
    {
      "cell_type": "code",
      "execution_count": null,
      "metadata": {
        "colab": {
          "base_uri": "https://localhost:8080/"
        },
        "id": "DCO9AhO-_x-p",
        "outputId": "85b57be7-f21c-40e6-d02e-dbc7ebf46cc1",
        "pycharm": {
          "name": "#%%\n"
        }
      },
      "outputs": [],
      "source": [
        "patient_1.introduce()"
      ]
    },
    {
      "cell_type": "markdown",
      "metadata": {
        "collapsed": false,
        "id": "U2n17vnP_x-p"
      },
      "source": [
        "Get the type of patient"
      ]
    },
    {
      "cell_type": "code",
      "execution_count": null,
      "metadata": {
        "colab": {
          "base_uri": "https://localhost:8080/"
        },
        "id": "6TSAjKev_x-p",
        "outputId": "ccaca9b1-b5fc-47a7-b332-21c3ca976358",
        "pycharm": {
          "name": "#%%\n"
        }
      },
      "outputs": [],
      "source": [
        "type(patient_1)"
      ]
    },
    {
      "cell_type": "markdown",
      "metadata": {
        "collapsed": false,
        "id": "pGP8Eec__x-p"
      },
      "source": [
        "Print the patient"
      ]
    },
    {
      "cell_type": "code",
      "execution_count": null,
      "metadata": {
        "colab": {
          "base_uri": "https://localhost:8080/"
        },
        "id": "ql9zpLGJ_x-q",
        "outputId": "31e003ae-0b81-4929-d8f3-3a5e87b89ada",
        "pycharm": {
          "name": "#%%\n"
        }
      },
      "outputs": [],
      "source": [
        "print(patient_1)"
      ]
    },
    {
      "cell_type": "markdown",
      "metadata": {
        "collapsed": false,
        "id": "X0BLk055_x-q"
      },
      "source": [
        "Now lets define a class waiting room that has a list of patients similar to a dataset"
      ]
    },
    {
      "cell_type": "code",
      "execution_count": null,
      "metadata": {
        "id": "j_ZYCPQT_x-q",
        "pycharm": {
          "name": "#%%\n"
        }
      },
      "outputs": [],
      "source": [
        "class WaitingRoom:\n",
        "    '''\n",
        "    This class represent a waiting room. We have list of patients waiting.\n",
        "    : attribute patient: a list of patients\n",
        "    '''\n",
        "    def __init__(self, patients=None):\n",
        "        '''\n",
        "        Constructor, expects a list of instances of class patient\n",
        "        '''\n",
        "        self.patients = patients\n",
        "    \n",
        "    def __getitem__(self, index=None):\n",
        "        '''\n",
        "        This function return a patient using the index. We can then iterate over the class instance  like a list.\n",
        "        see https://docs.python.org/3/reference/datamodel.html#object.__getitem__\n",
        "        '''\n",
        "        return self.patients[index]\n",
        "    \n",
        "    def __len__(self):\n",
        "        '''\n",
        "        Returns the number of patients in the room\n",
        "        see https://docs.python.org/3/reference/datamodel.html#object.__len__\n",
        "        '''\n",
        "        return len(self.patients)"
      ]
    },
    {
      "cell_type": "code",
      "execution_count": null,
      "metadata": {
        "id": "m6GIcotM_x-q",
        "pycharm": {
          "name": "#%%\n"
        }
      },
      "outputs": [],
      "source": [
        "# We declare two patients\n",
        "patient_1 = Patient(\"Max\", \"Mustermann\", 30, \"0001\")\n",
        "patient_2 = Patient(\"Frida\", \"Froehlich\", 25, \"0002\")\n",
        "\n",
        "# Declare a list of patients and add the patients to this list\n",
        "patients = []\n",
        "patients.append(patient_1)\n",
        "patients.append(patient_2)\n",
        "\n",
        "# Add the patients to the waiting room\n",
        "\n",
        "waiting_room = WaitingRoom(patients)"
      ]
    },
    {
      "cell_type": "markdown",
      "metadata": {
        "collapsed": false,
        "id": "QJTMi1Wf_x-r"
      },
      "source": [
        "Let see how many people are there in the waiting room"
      ]
    },
    {
      "cell_type": "code",
      "execution_count": null,
      "metadata": {
        "colab": {
          "base_uri": "https://localhost:8080/"
        },
        "id": "ITSW7uaQ_x-r",
        "outputId": "69b4f3f9-9039-4522-9b4a-16134a61687b",
        "pycharm": {
          "name": "#%%\n"
        }
      },
      "outputs": [],
      "source": [
        "len(waiting_room)"
      ]
    },
    {
      "cell_type": "markdown",
      "metadata": {
        "collapsed": false,
        "id": "oCDi-MqV_x-r",
        "pycharm": {
          "name": "#%% md\n"
        }
      },
      "source": [
        "Access the first name of the first patient in the waiting room"
      ]
    },
    {
      "cell_type": "code",
      "execution_count": null,
      "metadata": {
        "colab": {
          "base_uri": "https://localhost:8080/",
          "height": 36
        },
        "id": "jQiNT1up_x-r",
        "outputId": "a03ae46d-556f-4d97-dffc-984c36fce2d6",
        "pycharm": {
          "name": "#%%\n"
        }
      },
      "outputs": [],
      "source": [
        "waiting_room[0].first_name"
      ]
    },
    {
      "cell_type": "markdown",
      "metadata": {
        "collapsed": false,
        "id": "d9ouWSbv_x-s",
        "pycharm": {
          "name": "#%% md\n"
        }
      },
      "source": [
        "Let is loop over the patients in the waiting room and print their details"
      ]
    },
    {
      "cell_type": "code",
      "execution_count": null,
      "metadata": {
        "colab": {
          "base_uri": "https://localhost:8080/"
        },
        "id": "35_E5Mlv_x-s",
        "outputId": "71d0ef4d-a11b-425a-b12c-7c291dd90da1"
      },
      "outputs": [],
      "source": [
        "for patient in waiting_room:\n",
        "  print(patient)"
      ]
    },
    {
      "cell_type": "code",
      "execution_count": null,
      "metadata": {
        "id": "2QWMSIEV_x-s",
        "pycharm": {
          "name": "#%%\n"
        }
      },
      "outputs": [],
      "source": [
        "# waiting room implemented\n",
        "write_result(2, \"waiting room implemented\")"
      ]
    },
    {
      "cell_type": "markdown",
      "metadata": {
        "collapsed": false,
        "id": "mbLn3e-O_x-s"
      },
      "source": [
        "# Homework"
      ]
    },
    {
      "cell_type": "code",
      "execution_count": null,
      "metadata": {
        "id": "ZDSZBMBi_x-t",
        "pycharm": {
          "name": "#%%\n"
        }
      },
      "outputs": [],
      "source": [
        "class WaitingRoom:\n",
        "  '''\n",
        "  This class represent a waiting room. We have list of patients waiting.\n",
        "  : attribute patient: a list of patients\n",
        "  '''\n",
        "  def __init__(self, patients=None):\n",
        "    '''\n",
        "    Constructor, expects a list of instances of class patient\n",
        "    '''\n",
        "    self.patients = patients\n",
        "  \n",
        "  def __getitem__(self, index=None):\n",
        "    '''\n",
        "    This function return a patient using the index. We can then iterate over the class instance  like a list.\n",
        "    see https://docs.python.org/3/reference/datamodel.html#object.__getitem__\n",
        "    '''\n",
        "    return self.patients[index]\n",
        "  \n",
        "  def __len__(self):\n",
        "    '''\n",
        "    Returns the number of patients in the room\n",
        "    see https://docs.python.org/3/reference/datamodel.html#object.__len__\n",
        "    '''\n",
        "    return len(self.patients)\n",
        "\n",
        "  # add the following functions to the waiting room class above (you need to redefine the whole class again)\n",
        "\n",
        "  def enter_room(self, patient=None):\n",
        "    \"\"\" adds a patient object to the list of patients \"\"\"\n",
        "    self.patients.append(patient)\n",
        "    print(patient.first_name, patient.last_name, 'has entered the waiting room.\\n')\n",
        "\n",
        "  def leave_room(self, index=None):\n",
        "    \"\"\" removes a patient from the list of patients\n",
        "    hint: use list.pop([i]) https://docs.python.org/2/tutorial/datastructures.html\"\"\"\n",
        "    print(self.patients[index].first_name, self.patients[index].last_name, 'leaves the waiting room.\\n')\n",
        "    return self.patients.pop(index)\n",
        "\n",
        "  # optional to be able to print the current patients in the waiting room\n",
        "  def __str__(self):\n",
        "    return '\\nwaiting room:\\n\\n' + '\\n'.join([str(patient) for patient in waiting_room])"
      ]
    },
    {
      "cell_type": "code",
      "execution_count": null,
      "metadata": {
        "colab": {
          "base_uri": "https://localhost:8080/"
        },
        "id": "77Dd88PVjeSV",
        "outputId": "9cee5757-2055-4a62-b078-962fdff87eb4"
      },
      "outputs": [],
      "source": [
        "# We declare two patients\n",
        "patient_1 = Patient(\"Max\", \"Mustermann\", 30, \"0001\")\n",
        "patient_2 = Patient(\"Frida\", \"Froehlich\", 25, \"0002\")\n",
        "\n",
        "# Declare a list of patients and add the patients to this list\n",
        "patients = []\n",
        "patients.append(patient_1)\n",
        "patients.append(patient_2)\n",
        "\n",
        "# Add the patients to the waiting room\n",
        "\n",
        "waiting_room = WaitingRoom(patients)\n",
        "print(waiting_room)"
      ]
    },
    {
      "cell_type": "code",
      "execution_count": null,
      "metadata": {
        "colab": {
          "base_uri": "https://localhost:8080/"
        },
        "id": "J85fWJ2OjnKY",
        "outputId": "5c34104b-6d80-4d30-a94b-2041ca548e16"
      },
      "outputs": [],
      "source": [
        "left_patient = waiting_room.leave_room(-1)\n",
        "\n",
        "print('left patient:\\n', left_patient)\n",
        "\n",
        "print(waiting_room)"
      ]
    },
    {
      "cell_type": "code",
      "execution_count": null,
      "metadata": {
        "colab": {
          "base_uri": "https://localhost:8080/"
        },
        "id": "bIxILWvwjrXj",
        "outputId": "64d0645b-1aa4-46da-c43c-2b0ae43da650"
      },
      "outputs": [],
      "source": [
        "patient_3 = Patient(\"Fritz\", \"Fischer\", 40, \"0003\")\n",
        "\n",
        "print(waiting_room)\n",
        "\n",
        "waiting_room.enter_room(patient_3)\n",
        "\n",
        "print(waiting_room)\n"
      ]
    }
  ],
  "metadata": {
    "accelerator": "GPU",
    "colab": {
      "collapsed_sections": [],
      "name": "5.1 Object-oriented Programming in Python",
      "provenance": [],
      "toc_visible": true
    },
    "kernelspec": {
      "display_name": "Python 3",
      "language": "python",
      "name": "python3"
    },
    "language_info": {
      "codemirror_mode": {
        "name": "ipython",
        "version": 3
      },
      "file_extension": ".py",
      "mimetype": "text/x-python",
      "name": "python",
      "nbconvert_exporter": "python",
      "pygments_lexer": "ipython3",
      "version": "3.7.5-final"
    },
    "toc": {
      "base_numbering": 1,
      "nav_menu": {},
      "number_sections": true,
      "sideBar": true,
      "skip_h1_title": false,
      "title_cell": "Table of Contents",
      "title_sidebar": "Contents",
      "toc_cell": false,
      "toc_position": {},
      "toc_section_display": true,
      "toc_window_display": false
    }
  },
  "nbformat": 4,
  "nbformat_minor": 0
}
